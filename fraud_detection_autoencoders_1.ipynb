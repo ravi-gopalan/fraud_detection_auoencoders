{
  "nbformat": 4,
  "nbformat_minor": 0,
  "metadata": {
    "colab": {
      "name": "fraud_detection_autoencoders_1.ipynb",
      "provenance": [],
      "include_colab_link": true
    },
    "kernelspec": {
      "name": "python3",
      "display_name": "Python 3"
    },
    "accelerator": "GPU"
  },
  "cells": [
    {
      "cell_type": "markdown",
      "metadata": {
        "id": "view-in-github",
        "colab_type": "text"
      },
      "source": [
        "<a href=\"https://colab.research.google.com/github/ravi-gopalan/fraud_detection_autoencoders/blob/master/fraud_detection_autoencoders_1.ipynb\" target=\"_parent\"><img src=\"https://colab.research.google.com/assets/colab-badge.svg\" alt=\"Open In Colab\"/></a>"
      ]
    },
    {
      "cell_type": "code",
      "metadata": {
        "id": "fkv9nrc_VVTy",
        "colab_type": "code",
        "colab": {
          "base_uri": "https://localhost:8080/",
          "height": 191
        },
        "outputId": "73887db8-d007-4a67-aaec-b9e3cdc33ddf"
      },
      "source": [
        "# Clone the entire repo.\n",
        "!git clone -l -s git://github.com/ravi-gopalan/fraud_detection_autoencoders.git cloned-repo\n",
        "%cd cloned-repo\n",
        "!ls"
      ],
      "execution_count": 1,
      "outputs": [
        {
          "output_type": "stream",
          "text": [
            "Cloning into 'cloned-repo'...\n",
            "warning: --local is ignored\n",
            "remote: Enumerating objects: 73, done.\u001b[K\n",
            "remote: Counting objects:   1% (1/73)\u001b[K\rremote: Counting objects:   2% (2/73)\u001b[K\rremote: Counting objects:   4% (3/73)\u001b[K\rremote: Counting objects:   5% (4/73)\u001b[K\rremote: Counting objects:   6% (5/73)\u001b[K\rremote: Counting objects:   8% (6/73)\u001b[K\rremote: Counting objects:   9% (7/73)\u001b[K\rremote: Counting objects:  10% (8/73)\u001b[K\rremote: Counting objects:  12% (9/73)\u001b[K\rremote: Counting objects:  13% (10/73)\u001b[K\rremote: Counting objects:  15% (11/73)\u001b[K\rremote: Counting objects:  16% (12/73)\u001b[K\rremote: Counting objects:  17% (13/73)\u001b[K\rremote: Counting objects:  19% (14/73)\u001b[K\rremote: Counting objects:  20% (15/73)\u001b[K\rremote: Counting objects:  21% (16/73)\u001b[K\rremote: Counting objects:  23% (17/73)\u001b[K\rremote: Counting objects:  24% (18/73)\u001b[K\rremote: Counting objects:  26% (19/73)\u001b[K\rremote: Counting objects:  27% (20/73)\u001b[K\rremote: Counting objects:  28% (21/73)\u001b[K\rremote: Counting objects:  30% (22/73)\u001b[K\rremote: Counting objects:  31% (23/73)\u001b[K\rremote: Counting objects:  32% (24/73)\u001b[K\rremote: Counting objects:  34% (25/73)\u001b[K\rremote: Counting objects:  35% (26/73)\u001b[K\rremote: Counting objects:  36% (27/73)\u001b[K\rremote: Counting objects:  38% (28/73)\u001b[K\rremote: Counting objects:  39% (29/73)\u001b[K\rremote: Counting objects:  41% (30/73)\u001b[K\rremote: Counting objects:  42% (31/73)\u001b[K\rremote: Counting objects:  43% (32/73)\u001b[K\rremote: Counting objects:  45% (33/73)\u001b[K\rremote: Counting objects:  46% (34/73)\u001b[K\rremote: Counting objects:  47% (35/73)\u001b[K\rremote: Counting objects:  49% (36/73)\u001b[K\rremote: Counting objects:  50% (37/73)\u001b[K\rremote: Counting objects:  52% (38/73)\u001b[K\rremote: Counting objects:  53% (39/73)\u001b[K\rremote: Counting objects:  54% (40/73)\u001b[K\rremote: Counting objects:  56% (41/73)\u001b[K\rremote: Counting objects:  57% (42/73)\u001b[K\rremote: Counting objects:  58% (43/73)\u001b[K\rremote: Counting objects:  60% (44/73)\u001b[K\rremote: Counting objects:  61% (45/73)\u001b[K\rremote: Counting objects:  63% (46/73)\u001b[K\rremote: Counting objects:  64% (47/73)\u001b[K\rremote: Counting objects:  65% (48/73)\u001b[K\rremote: Counting objects:  67% (49/73)\u001b[K\rremote: Counting objects:  68% (50/73)\u001b[K\rremote: Counting objects:  69% (51/73)\u001b[K\rremote: Counting objects:  71% (52/73)\u001b[K\rremote: Counting objects:  72% (53/73)\u001b[K\rremote: Counting objects:  73% (54/73)\u001b[K\rremote: Counting objects:  75% (55/73)\u001b[K\rremote: Counting objects:  76% (56/73)\u001b[K\rremote: Counting objects:  78% (57/73)\u001b[K\rremote: Counting objects:  79% (58/73)\u001b[K\rremote: Counting objects:  80% (59/73)\u001b[K\rremote: Counting objects:  82% (60/73)\u001b[K\rremote: Counting objects:  83% (61/73)\u001b[K\rremote: Counting objects:  84% (62/73)\u001b[K\rremote: Counting objects:  86% (63/73)\u001b[K\rremote: Counting objects:  87% (64/73)\u001b[K\rremote: Counting objects:  89% (65/73)\u001b[K\rremote: Counting objects:  90% (66/73)\u001b[K\rremote: Counting objects:  91% (67/73)\u001b[K\rremote: Counting objects:  93% (68/73)\u001b[K\rremote: Counting objects:  94% (69/73)\u001b[K\rremote: Counting objects:  95% (70/73)\u001b[K\rremote: Counting objects:  97% (71/73)\u001b[K\rremote: Counting objects:  98% (72/73)\u001b[K\rremote: Counting objects: 100% (73/73)\u001b[K\rremote: Counting objects: 100% (73/73), done.\u001b[K\n",
            "remote: Compressing objects:   3% (1/32)\u001b[K\rremote: Compressing objects:   6% (2/32)\u001b[K\rremote: Compressing objects:   9% (3/32)\u001b[K\rremote: Compressing objects:  12% (4/32)\u001b[K\rremote: Compressing objects:  15% (5/32)\u001b[K\rremote: Compressing objects:  18% (6/32)\u001b[K\rremote: Compressing objects:  21% (7/32)\u001b[K\rremote: Compressing objects:  25% (8/32)\u001b[K\rremote: Compressing objects:  28% (9/32)\u001b[K\rremote: Compressing objects:  31% (10/32)\u001b[K\rremote: Compressing objects:  34% (11/32)\u001b[K\rremote: Compressing objects:  37% (12/32)\u001b[K\rremote: Compressing objects:  40% (13/32)\u001b[K\rremote: Compressing objects:  43% (14/32)\u001b[K\rremote: Compressing objects:  46% (15/32)\u001b[K\rremote: Compressing objects:  50% (16/32)\u001b[K\rremote: Compressing objects:  53% (17/32)\u001b[K\rremote: Compressing objects:  56% (18/32)\u001b[K\rremote: Compressing objects:  59% (19/32)\u001b[K\rremote: Compressing objects:  62% (20/32)\u001b[K\rremote: Compressing objects:  65% (21/32)\u001b[K\rremote: Compressing objects:  68% (22/32)\u001b[K\rremote: Compressing objects:  71% (23/32)\u001b[K\rremote: Compressing objects:  75% (24/32)\u001b[K\rremote: Compressing objects:  78% (25/32)\u001b[K\rremote: Compressing objects:  81% (26/32)\u001b[K\rremote: Compressing objects:  84% (27/32)\u001b[K\rremote: Compressing objects:  87% (28/32)\u001b[K\rremote: Compressing objects:  90% (29/32)\u001b[K\rremote: Compressing objects:  93% (30/32)\u001b[K\rremote: Compressing objects:  96% (31/32)\u001b[K\rremote: Compressing objects: 100% (32/32)\u001b[K\rremote: Compressing objects: 100% (32/32), done.\u001b[K\n",
            "Receiving objects:   1% (1/73)   \rReceiving objects:   2% (2/73)   \rReceiving objects:   4% (3/73)   \rReceiving objects:   5% (4/73)   \rReceiving objects:   6% (5/73)   \rReceiving objects:   8% (6/73)   \rReceiving objects:   9% (7/73)   \rReceiving objects:  10% (8/73)   \rReceiving objects:  12% (9/73)   \rReceiving objects:  13% (10/73)   \rReceiving objects:  15% (11/73)   \rReceiving objects:  16% (12/73)   \rReceiving objects:  17% (13/73)   \rReceiving objects:  19% (14/73)   \rReceiving objects:  20% (15/73)   \rReceiving objects:  21% (16/73)   \rReceiving objects:  23% (17/73)   \rReceiving objects:  24% (18/73)   \rReceiving objects:  26% (19/73)   \rReceiving objects:  27% (20/73)   \rReceiving objects:  28% (21/73)   \rReceiving objects:  30% (22/73)   \rReceiving objects:  31% (23/73)   \rReceiving objects:  32% (24/73)   \rReceiving objects:  32% (24/73), 65.14 MiB | 65.14 MiB/s   \rReceiving objects:  34% (25/73), 65.14 MiB | 65.14 MiB/s   \rReceiving objects:  35% (26/73), 65.14 MiB | 65.14 MiB/s   \rReceiving objects:  36% (27/73), 65.14 MiB | 65.14 MiB/s   \rReceiving objects:  38% (28/73), 65.14 MiB | 65.14 MiB/s   \rReceiving objects:  39% (29/73), 65.14 MiB | 65.14 MiB/s   \rReceiving objects:  41% (30/73), 65.14 MiB | 65.14 MiB/s   \rReceiving objects:  42% (31/73), 65.14 MiB | 65.14 MiB/s   \rReceiving objects:  43% (32/73), 65.14 MiB | 65.14 MiB/s   \rReceiving objects:  45% (33/73), 65.14 MiB | 65.14 MiB/s   \rReceiving objects:  46% (34/73), 65.14 MiB | 65.14 MiB/s   \rReceiving objects:  47% (35/73), 65.14 MiB | 65.14 MiB/s   \rReceiving objects:  49% (36/73), 65.14 MiB | 65.14 MiB/s   \rReceiving objects:  50% (37/73), 65.14 MiB | 65.14 MiB/s   \rReceiving objects:  52% (38/73), 65.14 MiB | 65.14 MiB/s   \rReceiving objects:  53% (39/73), 65.14 MiB | 65.14 MiB/s   \rReceiving objects:  54% (40/73), 65.14 MiB | 65.14 MiB/s   \rReceiving objects:  56% (41/73), 65.14 MiB | 65.14 MiB/s   \rReceiving objects:  57% (42/73), 65.14 MiB | 65.14 MiB/s   \rReceiving objects:  58% (43/73), 65.14 MiB | 65.14 MiB/s   \rReceiving objects:  60% (44/73), 65.14 MiB | 65.14 MiB/s   \rReceiving objects:  61% (45/73), 65.14 MiB | 65.14 MiB/s   \rReceiving objects:  63% (46/73), 65.14 MiB | 65.14 MiB/s   \rReceiving objects:  64% (47/73), 65.14 MiB | 65.14 MiB/s   \rReceiving objects:  65% (48/73), 65.14 MiB | 65.14 MiB/s   \rReceiving objects:  67% (49/73), 65.14 MiB | 65.14 MiB/s   \rReceiving objects:  68% (50/73), 65.14 MiB | 65.14 MiB/s   \rReceiving objects:  69% (51/73), 65.14 MiB | 65.14 MiB/s   \rReceiving objects:  71% (52/73), 65.14 MiB | 65.14 MiB/s   \rReceiving objects:  72% (53/73), 65.14 MiB | 65.14 MiB/s   \rReceiving objects:  73% (54/73), 65.14 MiB | 65.14 MiB/s   \rReceiving objects:  75% (55/73), 65.14 MiB | 65.14 MiB/s   \rReceiving objects:  76% (56/73), 65.14 MiB | 65.14 MiB/s   \rReceiving objects:  78% (57/73), 65.14 MiB | 65.14 MiB/s   \rReceiving objects:  79% (58/73), 65.14 MiB | 65.14 MiB/s   \rReceiving objects:  80% (59/73), 65.14 MiB | 65.14 MiB/s   \rReceiving objects:  82% (60/73), 65.14 MiB | 65.14 MiB/s   \rReceiving objects:  83% (61/73), 65.14 MiB | 65.14 MiB/s   \rReceiving objects:  84% (62/73), 65.14 MiB | 65.14 MiB/s   \rReceiving objects:  86% (63/73), 65.14 MiB | 65.14 MiB/s   \rReceiving objects:  87% (64/73), 65.14 MiB | 65.14 MiB/s   \rReceiving objects:  89% (65/73), 65.14 MiB | 65.14 MiB/s   \rReceiving objects:  90% (66/73), 65.14 MiB | 65.14 MiB/s   \rReceiving objects:  91% (67/73), 65.14 MiB | 65.14 MiB/s   \rremote: Total 73 (delta 40), reused 73 (delta 40), pack-reused 0\u001b[K\n",
            "Receiving objects:  93% (68/73), 65.14 MiB | 65.14 MiB/s   \rReceiving objects:  94% (69/73), 65.14 MiB | 65.14 MiB/s   \rReceiving objects:  95% (70/73), 65.14 MiB | 65.14 MiB/s   \rReceiving objects:  97% (71/73), 65.14 MiB | 65.14 MiB/s   \rReceiving objects:  98% (72/73), 65.14 MiB | 65.14 MiB/s   \rReceiving objects: 100% (73/73), 65.14 MiB | 65.14 MiB/s   \rReceiving objects: 100% (73/73), 69.44 MiB | 62.65 MiB/s, done.\n",
            "Resolving deltas:   0% (0/40)   \rResolving deltas:  42% (17/40)   \rResolving deltas:  47% (19/40)   \rResolving deltas:  50% (20/40)   \rResolving deltas:  67% (27/40)   \rResolving deltas:  72% (29/40)   \rResolving deltas:  75% (30/40)   \rResolving deltas:  95% (38/40)   \rResolving deltas: 100% (40/40)   \rResolving deltas: 100% (40/40), done.\n",
            "/content/cloned-repo\n",
            "data  fraud_detection.ipynb  LICENSE  logs  model.h5  README.md\n"
          ],
          "name": "stdout"
        }
      ]
    },
    {
      "cell_type": "code",
      "metadata": {
        "id": "4UlA0BD6V5-2",
        "colab_type": "code",
        "colab": {
          "base_uri": "https://localhost:8080/",
          "height": 34
        },
        "outputId": "a4665438-9d1c-4629-c517-37616f590a3f"
      },
      "source": [
        "import pandas as pd\n",
        "import numpy as np\n",
        "import pickle\n",
        "import matplotlib.pyplot as plt\n",
        "from scipy import stats\n",
        "import tensorflow as tf\n",
        "import seaborn as sns\n",
        "from pylab import rcParams\n",
        "from sklearn.model_selection import train_test_split\n",
        "from keras.models import Model, load_model\n",
        "from keras.layers import Input, Dense\n",
        "from keras.callbacks import ModelCheckpoint, TensorBoard\n",
        "from keras import regularizers\n",
        "%matplotlib inline\n",
        "sns.set(style='whitegrid', palette='muted', font_scale=1.5)\n",
        "rcParams['figure.figsize'] = 14, 8\n",
        "RANDOM_SEED = 42\n",
        "LABELS = [\"Normal\", \"Fraud\"]"
      ],
      "execution_count": 2,
      "outputs": [
        {
          "output_type": "stream",
          "text": [
            "Using TensorFlow backend.\n"
          ],
          "name": "stderr"
        }
      ]
    },
    {
      "cell_type": "code",
      "metadata": {
        "id": "VPzctIE8XB10",
        "colab_type": "code",
        "colab": {}
      },
      "source": [
        "from google.colab import drive\n"
      ],
      "execution_count": 0,
      "outputs": []
    },
    {
      "cell_type": "code",
      "metadata": {
        "id": "ZN0bvx4YYIAF",
        "colab_type": "code",
        "colab": {}
      },
      "source": [
        "drive.mount('/gdrive/Colab_stuff')\n",
        "%cd /gdrive"
      ],
      "execution_count": 0,
      "outputs": []
    }
  ]
}